{
  "cells": [
    {
      "cell_type": "code",
      "execution_count": 23,
      "metadata": {
        "colab": {
          "base_uri": "https://localhost:8080/",
          "height": 69
        },
        "id": "h4yoJnWgJgAm",
        "outputId": "fcc4cf37-feb5-47c9-82c1-3d95e1a74f2d"
      },
      "outputs": [
        {
          "name": "stdout",
          "output_type": "stream",
          "text": [
            "Downloading and uncompressing: cites-wildlife-trade-database\n",
            "Downloaded and uncompressed: cites-wildlife-trade-database\n",
            "Data source import complete\n"
          ]
        }
      ],
      "source": [
        "\n",
        "import os\n",
        "import zipfile\n",
        "import urllib.parse\n",
        "import requests\n",
        "import tempfile\n",
        "\n",
        "# IMPORTANT: RUN THIS CELL IN ORDER TO IMPORT YOUR KAGGLE DATA SOURCES\n",
        "# TO THE CORRECT LOCATION (/kaggle/input) IN YOUR NOTEBOOK,\n",
        "# THEN FEEL FREE TO DELETE THIS CELL.\n",
        "\n",
        "DATA_SOURCE_MAPPING = 'cites-wildlife-trade-database:https%3A%2F%2Fstorage.googleapis.com%2Fkaggle-data-sets%2F11299%2F15671%2Fbundle%2Farchive.zip%3FX-Goog-Algorithm%3DGOOG4-RSA-SHA256%26X-Goog-Credential%3Dgcp-kaggle-com%2540kaggle-161607.iam.gserviceaccount.com%252F20250415%252Fauto%252Fstorage%252Fgoog4_request%26X-Goog-Date%3D20250415T063213Z%26X-Goog-Expires%3D259200%26X-Goog-SignedHeaders%3Dhost%26X-Goog-Signature%3D039895025deab430ced8fc8648cd6b860889c17b7b85d41e0351c10abb70c65ca588292104b78800c078e685304a4359281e8d25d7f56be07d660b5a1d54ca4ad35c25af13f5a439cf7e67e37e4f6af77c9c868afbf379fb69b2e9ef5057db789e5bf3c12379fa04e5eaa03baec35a2a0d8bc6c4a7fdab863bfa44799a5ff00ba61458c08ab429c7fcb88f1ebef3b39170a9d9faa58d351a2ec0397d2a32d552031c618eb0ef3747d1bb651e8c3318f0d55e63125398483e6a596ecb1c2aa94050ef796c14675c03c886f85855f7fcfd066cf97a9e3fe23da79cbb9ae777b96f2bde8e18832a3b4b3e3dbf7e4f9672a4f961fcde42d7d2e6e2820fae1468d890'\n",
        "\n",
        "KAGGLE_INPUT_PATH = \"\" #os.path.join(tempfile.gettempdir(), 'kaggle_input')\n",
        "\n",
        "data_source_mappings = DATA_SOURCE_MAPPING.split(',')\n",
        "for data_source_mapping in data_source_mappings:\n",
        "    directory, download_url = data_source_mapping.split(':')\n",
        "    download_url = urllib.parse.unquote(download_url)\n",
        "    destination_path = os.path.join(KAGGLE_INPUT_PATH, directory)\n",
        "    os.makedirs(destination_path, exist_ok=True)\n",
        "    print(f'Downloading and uncompressing: {directory}')\n",
        "    if download_url.find('.zip')>-1:\n",
        "        with tempfile.NamedTemporaryFile(suffix='.zip') as temp:\n",
        "            response = requests.get(download_url)\n",
        "            temp.write(response.content)\n",
        "            with zipfile.ZipFile(temp.name, 'r') as zip_ref:\n",
        "                zip_ref.extractall(destination_path)\n",
        "    print(f'Downloaded and uncompressed: {directory}')\n",
        "\n",
        "print('Data source import complete')\n"
      ]
    },
    {
      "cell_type": "markdown",
      "metadata": {
        "id": "17QAQ4S-JgAr"
      },
      "source": [
        "# Background"
      ]
    },
    {
      "cell_type": "markdown",
      "metadata": {
        "id": "0oVBOUm4JgAt"
      },
      "source": [
        "Human-driven extinction of species is a serious and ongoing crisis. A major contributing factor to this is the capture and slaughter of wild animals and plant life for trade. In an effort to combat this, the CITEs organization was created to monitor and regulate the international trade of protected species. The purpose of this case study is to analyze data collected by CITEs and come up with reccomendations based on insights from the analysis."
      ]
    },
    {
      "cell_type": "markdown",
      "metadata": {
        "id": "AJrzzjQUJgAt"
      },
      "source": [
        "Metadata: https://trade.cites.org/cites_trade_guidelines/en-CITES_Trade_Database_Guide.pdf\n",
        "\n",
        "Source: https://trade.cites.org/en/cites_trade/#"
      ]
    },
    {
      "cell_type": "markdown",
      "metadata": {
        "id": "VJVTZ1VSJgAt"
      },
      "source": [
        "# Business Task"
      ]
    },
    {
      "cell_type": "markdown",
      "metadata": {
        "id": "5OnVZpSXJgAu"
      },
      "source": [
        "Analyze CITEs data and reccomend strategies to prevent the endagermnent of protected species."
      ]
    },
    {
      "cell_type": "markdown",
      "metadata": {
        "id": "w_mmSyQmJgAu"
      },
      "source": [
        "# Importing Libraries & Datasets"
      ]
    },
    {
      "cell_type": "code",
      "execution_count": 12,
      "metadata": {
        "_execution_state": "idle",
        "_uuid": "051d70d956493feee0c6d64651c6a088724dca2a",
        "execution": {
          "iopub.execute_input": "2022-03-13T21:02:09.54286Z",
          "iopub.status.busy": "2022-03-13T21:02:09.511605Z",
          "iopub.status.idle": "2022-03-13T21:02:09.557504Z"
        },
        "id": "fA6LCdjkJgAu",
        "trusted": true
      },
      "outputs": [],
      "source": [
        "# import libraries\n",
        "# %pip install matplotlib seaborn\n",
        "\n",
        "import pandas as pd\n",
        "import matplotlib.pyplot as plt\n",
        "import seaborn as sns\n",
        "from matplotlib import cm"
      ]
    },
    {
      "cell_type": "code",
      "execution_count": 24,
      "metadata": {
        "execution": {
          "iopub.execute_input": "2022-03-13T21:02:11.31205Z",
          "iopub.status.busy": "2022-03-13T21:02:11.310346Z",
          "iopub.status.idle": "2022-03-13T21:02:11.701846Z"
        },
        "id": "q5FoIJfXJgAv",
        "trusted": true
      },
      "outputs": [
        {
          "name": "stdout",
          "output_type": "stream",
          "text": [
            "<class 'pandas.core.frame.DataFrame'>\n",
            "RangeIndex: 67161 entries, 0 to 67160\n",
            "Data columns (total 16 columns):\n",
            " #   Column                      Non-Null Count  Dtype  \n",
            "---  ------                      --------------  -----  \n",
            " 0   Year                        67161 non-null  int64  \n",
            " 1   App.                        67161 non-null  object \n",
            " 2   Taxon                       67161 non-null  object \n",
            " 3   Class                       46937 non-null  object \n",
            " 4   Order                       67104 non-null  object \n",
            " 5   Family                      66700 non-null  object \n",
            " 6   Genus                       65702 non-null  object \n",
            " 7   Importer                    67090 non-null  object \n",
            " 8   Exporter                    66588 non-null  object \n",
            " 9   Origin                      25643 non-null  object \n",
            " 10  Importer reported quantity  31866 non-null  float64\n",
            " 11  Exporter reported quantity  44021 non-null  float64\n",
            " 12  Term                        67161 non-null  object \n",
            " 13  Unit                        6402 non-null   object \n",
            " 14  Purpose                     61102 non-null  object \n",
            " 15  Source                      66617 non-null  object \n",
            "dtypes: float64(2), int64(1), object(13)\n",
            "memory usage: 8.2+ MB\n",
            "None\n"
          ]
        }
      ],
      "source": [
        "# store the data\n",
        "trade = pd.read_csv(os.path.join(destination_path, \"comptab_2018-01-29 16_00_comma_separated.csv\"))\n",
        "\n",
        "# glimpse the data\n",
        "print(trade.info())"
      ]
    },
    {
      "cell_type": "markdown",
      "metadata": {
        "id": "TXH-YuQ6JgAv"
      },
      "source": [
        "### Personalization"
      ]
    },
    {
      "cell_type": "code",
      "execution_count": 26,
      "metadata": {
        "execution": {
          "iopub.execute_input": "2022-03-13T21:02:12.537746Z",
          "iopub.status.busy": "2022-03-13T21:02:12.536133Z",
          "iopub.status.idle": "2022-03-13T21:02:12.550369Z"
        },
        "id": "FvALXVfmJgAv",
        "trusted": true
      },
      "outputs": [],
      "source": [
        "# personalized theme for matplotlib\n",
        "def my_theme(ax):\n",
        "    ax.spines['top'].set_visible(False)\n",
        "    ax.spines['right'].set_visible(False)\n",
        "    ax.spines['left'].set_linewidth(1)\n",
        "    ax.spines['bottom'].set_linewidth(1)\n",
        "    ax.grid(False)  # Remove grid lines\n",
        "    ax.set_facecolor('white')  # Set background color to white\n",
        "    ax.tick_params(axis='x', which='both', bottom=True, top=False)\n",
        "    ax.tick_params(axis='y', which='both', left=True, right=False)"
      ]
    },
    {
      "cell_type": "markdown",
      "metadata": {
        "id": "KjVUFgfnJgAv"
      },
      "source": [
        "# Processing the Data"
      ]
    },
    {
      "cell_type": "markdown",
      "metadata": {
        "id": "MttPflC4JgAw"
      },
      "source": [
        "### Cleaning"
      ]
    },
    {
      "cell_type": "code",
      "execution_count": 28,
      "metadata": {
        "execution": {
          "iopub.execute_input": "2022-03-13T21:02:13.839602Z",
          "iopub.status.busy": "2022-03-13T21:02:13.837982Z",
          "iopub.status.idle": "2022-03-13T21:02:13.874305Z"
        },
        "id": "RFmXjYKQJgAw",
        "trusted": true
      },
      "outputs": [
        {
          "data": {
            "text/html": [
              "<div>\n",
              "<style scoped>\n",
              "    .dataframe tbody tr th:only-of-type {\n",
              "        vertical-align: middle;\n",
              "    }\n",
              "\n",
              "    .dataframe tbody tr th {\n",
              "        vertical-align: top;\n",
              "    }\n",
              "\n",
              "    .dataframe thead th {\n",
              "        text-align: right;\n",
              "    }\n",
              "</style>\n",
              "<table border=\"1\" class=\"dataframe\">\n",
              "  <thead>\n",
              "    <tr style=\"text-align: right;\">\n",
              "      <th></th>\n",
              "      <th>Year</th>\n",
              "      <th>App.</th>\n",
              "      <th>Taxon</th>\n",
              "      <th>Class</th>\n",
              "      <th>Order</th>\n",
              "      <th>Family</th>\n",
              "      <th>Genus</th>\n",
              "      <th>Importer</th>\n",
              "      <th>Exporter</th>\n",
              "      <th>Origin</th>\n",
              "      <th>Importer reported quantity</th>\n",
              "      <th>Exporter reported quantity</th>\n",
              "      <th>Term</th>\n",
              "      <th>Unit</th>\n",
              "      <th>Purpose</th>\n",
              "      <th>Source</th>\n",
              "    </tr>\n",
              "  </thead>\n",
              "  <tbody>\n",
              "    <tr>\n",
              "      <th>0</th>\n",
              "      <td>2016</td>\n",
              "      <td>I</td>\n",
              "      <td>Aquila heliaca</td>\n",
              "      <td>Aves</td>\n",
              "      <td>Falconiformes</td>\n",
              "      <td>Accipitridae</td>\n",
              "      <td>Aquila</td>\n",
              "      <td>TR</td>\n",
              "      <td>NL</td>\n",
              "      <td>CZ</td>\n",
              "      <td>NaN</td>\n",
              "      <td>1.0</td>\n",
              "      <td>bodies</td>\n",
              "      <td>NaN</td>\n",
              "      <td>T</td>\n",
              "      <td>C</td>\n",
              "    </tr>\n",
              "    <tr>\n",
              "      <th>1</th>\n",
              "      <td>2016</td>\n",
              "      <td>I</td>\n",
              "      <td>Aquila heliaca</td>\n",
              "      <td>Aves</td>\n",
              "      <td>Falconiformes</td>\n",
              "      <td>Accipitridae</td>\n",
              "      <td>Aquila</td>\n",
              "      <td>XV</td>\n",
              "      <td>RS</td>\n",
              "      <td>RS</td>\n",
              "      <td>NaN</td>\n",
              "      <td>1.0</td>\n",
              "      <td>bodies</td>\n",
              "      <td>NaN</td>\n",
              "      <td>Q</td>\n",
              "      <td>O</td>\n",
              "    </tr>\n",
              "    <tr>\n",
              "      <th>2</th>\n",
              "      <td>2016</td>\n",
              "      <td>I</td>\n",
              "      <td>Haliaeetus albicilla</td>\n",
              "      <td>Aves</td>\n",
              "      <td>Falconiformes</td>\n",
              "      <td>Accipitridae</td>\n",
              "      <td>Haliaeetus</td>\n",
              "      <td>BE</td>\n",
              "      <td>NO</td>\n",
              "      <td>NaN</td>\n",
              "      <td>NaN</td>\n",
              "      <td>43.0</td>\n",
              "      <td>feathers</td>\n",
              "      <td>NaN</td>\n",
              "      <td>S</td>\n",
              "      <td>W</td>\n",
              "    </tr>\n",
              "    <tr>\n",
              "      <th>3</th>\n",
              "      <td>2016</td>\n",
              "      <td>I</td>\n",
              "      <td>Haliaeetus albicilla</td>\n",
              "      <td>Aves</td>\n",
              "      <td>Falconiformes</td>\n",
              "      <td>Accipitridae</td>\n",
              "      <td>Haliaeetus</td>\n",
              "      <td>BE</td>\n",
              "      <td>NO</td>\n",
              "      <td>NaN</td>\n",
              "      <td>NaN</td>\n",
              "      <td>43.0</td>\n",
              "      <td>specimens</td>\n",
              "      <td>NaN</td>\n",
              "      <td>S</td>\n",
              "      <td>W</td>\n",
              "    </tr>\n",
              "    <tr>\n",
              "      <th>4</th>\n",
              "      <td>2016</td>\n",
              "      <td>I</td>\n",
              "      <td>Haliaeetus albicilla</td>\n",
              "      <td>Aves</td>\n",
              "      <td>Falconiformes</td>\n",
              "      <td>Accipitridae</td>\n",
              "      <td>Haliaeetus</td>\n",
              "      <td>DK</td>\n",
              "      <td>IS</td>\n",
              "      <td>NaN</td>\n",
              "      <td>700.0</td>\n",
              "      <td>NaN</td>\n",
              "      <td>specimens</td>\n",
              "      <td>NaN</td>\n",
              "      <td>S</td>\n",
              "      <td>W</td>\n",
              "    </tr>\n",
              "    <tr>\n",
              "      <th>5</th>\n",
              "      <td>2016</td>\n",
              "      <td>I</td>\n",
              "      <td>Haliaeetus albicilla</td>\n",
              "      <td>Aves</td>\n",
              "      <td>Falconiformes</td>\n",
              "      <td>Accipitridae</td>\n",
              "      <td>Haliaeetus</td>\n",
              "      <td>XV</td>\n",
              "      <td>RS</td>\n",
              "      <td>RS</td>\n",
              "      <td>NaN</td>\n",
              "      <td>1.0</td>\n",
              "      <td>bodies</td>\n",
              "      <td>NaN</td>\n",
              "      <td>Q</td>\n",
              "      <td>O</td>\n",
              "    </tr>\n",
              "    <tr>\n",
              "      <th>6</th>\n",
              "      <td>2016</td>\n",
              "      <td>I</td>\n",
              "      <td>Harpia harpyja</td>\n",
              "      <td>Aves</td>\n",
              "      <td>Falconiformes</td>\n",
              "      <td>Accipitridae</td>\n",
              "      <td>Harpia</td>\n",
              "      <td>BR</td>\n",
              "      <td>FR</td>\n",
              "      <td>NaN</td>\n",
              "      <td>NaN</td>\n",
              "      <td>12.0</td>\n",
              "      <td>feathers</td>\n",
              "      <td>NaN</td>\n",
              "      <td>S</td>\n",
              "      <td>C</td>\n",
              "    </tr>\n",
              "    <tr>\n",
              "      <th>7</th>\n",
              "      <td>2016</td>\n",
              "      <td>I</td>\n",
              "      <td>Harpia harpyja</td>\n",
              "      <td>Aves</td>\n",
              "      <td>Falconiformes</td>\n",
              "      <td>Accipitridae</td>\n",
              "      <td>Harpia</td>\n",
              "      <td>BR</td>\n",
              "      <td>FR</td>\n",
              "      <td>NaN</td>\n",
              "      <td>NaN</td>\n",
              "      <td>4.0</td>\n",
              "      <td>feathers</td>\n",
              "      <td>NaN</td>\n",
              "      <td>S</td>\n",
              "      <td>U</td>\n",
              "    </tr>\n",
              "    <tr>\n",
              "      <th>8</th>\n",
              "      <td>2016</td>\n",
              "      <td>I</td>\n",
              "      <td>Harpia harpyja</td>\n",
              "      <td>Aves</td>\n",
              "      <td>Falconiformes</td>\n",
              "      <td>Accipitridae</td>\n",
              "      <td>Harpia</td>\n",
              "      <td>BR</td>\n",
              "      <td>FR</td>\n",
              "      <td>NaN</td>\n",
              "      <td>NaN</td>\n",
              "      <td>2.0</td>\n",
              "      <td>feathers</td>\n",
              "      <td>NaN</td>\n",
              "      <td>S</td>\n",
              "      <td>W</td>\n",
              "    </tr>\n",
              "    <tr>\n",
              "      <th>9</th>\n",
              "      <td>2016</td>\n",
              "      <td>I</td>\n",
              "      <td>Acipenser brevirostrum</td>\n",
              "      <td>Actinopteri</td>\n",
              "      <td>Acipenseriformes</td>\n",
              "      <td>Acipenseridae</td>\n",
              "      <td>Acipenser</td>\n",
              "      <td>CH</td>\n",
              "      <td>DE</td>\n",
              "      <td>NaN</td>\n",
              "      <td>NaN</td>\n",
              "      <td>4.0</td>\n",
              "      <td>live</td>\n",
              "      <td>NaN</td>\n",
              "      <td>T</td>\n",
              "      <td>C</td>\n",
              "    </tr>\n",
              "  </tbody>\n",
              "</table>\n",
              "</div>"
            ],
            "text/plain": [
              "   Year App.                   Taxon        Class             Order  \\\n",
              "0  2016    I          Aquila heliaca         Aves     Falconiformes   \n",
              "1  2016    I          Aquila heliaca         Aves     Falconiformes   \n",
              "2  2016    I    Haliaeetus albicilla         Aves     Falconiformes   \n",
              "3  2016    I    Haliaeetus albicilla         Aves     Falconiformes   \n",
              "4  2016    I    Haliaeetus albicilla         Aves     Falconiformes   \n",
              "5  2016    I    Haliaeetus albicilla         Aves     Falconiformes   \n",
              "6  2016    I          Harpia harpyja         Aves     Falconiformes   \n",
              "7  2016    I          Harpia harpyja         Aves     Falconiformes   \n",
              "8  2016    I          Harpia harpyja         Aves     Falconiformes   \n",
              "9  2016    I  Acipenser brevirostrum  Actinopteri  Acipenseriformes   \n",
              "\n",
              "          Family       Genus Importer Exporter Origin  \\\n",
              "0   Accipitridae      Aquila       TR       NL     CZ   \n",
              "1   Accipitridae      Aquila       XV       RS     RS   \n",
              "2   Accipitridae  Haliaeetus       BE       NO    NaN   \n",
              "3   Accipitridae  Haliaeetus       BE       NO    NaN   \n",
              "4   Accipitridae  Haliaeetus       DK       IS    NaN   \n",
              "5   Accipitridae  Haliaeetus       XV       RS     RS   \n",
              "6   Accipitridae      Harpia       BR       FR    NaN   \n",
              "7   Accipitridae      Harpia       BR       FR    NaN   \n",
              "8   Accipitridae      Harpia       BR       FR    NaN   \n",
              "9  Acipenseridae   Acipenser       CH       DE    NaN   \n",
              "\n",
              "   Importer reported quantity  Exporter reported quantity       Term Unit  \\\n",
              "0                         NaN                         1.0     bodies  NaN   \n",
              "1                         NaN                         1.0     bodies  NaN   \n",
              "2                         NaN                        43.0   feathers  NaN   \n",
              "3                         NaN                        43.0  specimens  NaN   \n",
              "4                       700.0                         NaN  specimens  NaN   \n",
              "5                         NaN                         1.0     bodies  NaN   \n",
              "6                         NaN                        12.0   feathers  NaN   \n",
              "7                         NaN                         4.0   feathers  NaN   \n",
              "8                         NaN                         2.0   feathers  NaN   \n",
              "9                         NaN                         4.0       live  NaN   \n",
              "\n",
              "  Purpose Source  \n",
              "0       T      C  \n",
              "1       Q      O  \n",
              "2       S      W  \n",
              "3       S      W  \n",
              "4       S      W  \n",
              "5       Q      O  \n",
              "6       S      C  \n",
              "7       S      U  \n",
              "8       S      W  \n",
              "9       T      C  "
            ]
          },
          "execution_count": 28,
          "metadata": {},
          "output_type": "execute_result"
        }
      ],
      "source": [
        "# display first 10 rows\n",
        "trade.head(10)"
      ]
    },
    {
      "cell_type": "markdown",
      "metadata": {
        "id": "ZKZGrU9jJgAw"
      },
      "source": [
        "There are clearly missing values within just the first 10 rows. It is a good idea to count missing values for every column individually."
      ]
    },
    {
      "cell_type": "code",
      "execution_count": 30,
      "metadata": {
        "execution": {
          "iopub.execute_input": "2022-03-13T21:02:14.874381Z",
          "iopub.status.busy": "2022-03-13T21:02:14.87281Z",
          "iopub.status.idle": "2022-03-13T21:02:14.896151Z"
        },
        "id": "JcGfoKSrJgAw",
        "trusted": true
      },
      "outputs": [
        {
          "data": {
            "text/plain": [
              "Year                              0\n",
              "App.                              0\n",
              "Taxon                             0\n",
              "Class                         20224\n",
              "Order                            57\n",
              "Family                          461\n",
              "Genus                          1459\n",
              "Importer                         71\n",
              "Exporter                        573\n",
              "Origin                        41518\n",
              "Importer reported quantity    35295\n",
              "Exporter reported quantity    23140\n",
              "Term                              0\n",
              "Unit                          60759\n",
              "Purpose                        6059\n",
              "Source                          544\n",
              "dtype: int64"
            ]
          },
          "execution_count": 30,
          "metadata": {},
          "output_type": "execute_result"
        }
      ],
      "source": [
        "# count missing values\n",
        "trade.isna().sum()"
      ]
    },
    {
      "cell_type": "markdown",
      "metadata": {
        "id": "TtOYt31fJgAw"
      },
      "source": [
        "It is apparent from the data frame that there are likely more missing values that are improperly formatted as empty strings. These empty strings should be converted to nulls for consistency.\n",
        "\n",
        "To be thorough, empty strings will be replaced throughout the entire data frame."
      ]
    },
    {
      "cell_type": "code",
      "execution_count": 32,
      "metadata": {
        "execution": {
          "iopub.execute_input": "2022-03-13T21:02:15.559716Z",
          "iopub.status.busy": "2022-03-13T21:02:15.55807Z",
          "iopub.status.idle": "2022-03-13T21:02:15.736131Z"
        },
        "id": "ionDREVxJgAw",
        "trusted": true
      },
      "outputs": [
        {
          "name": "stdout",
          "output_type": "stream",
          "text": [
            "Year                              0\n",
            "App.                              0\n",
            "Taxon                             0\n",
            "Class                         20224\n",
            "Order                            57\n",
            "Family                          461\n",
            "Genus                          1459\n",
            "Importer                         71\n",
            "Exporter                        573\n",
            "Origin                        41518\n",
            "Importer reported quantity    35295\n",
            "Exporter reported quantity    23140\n",
            "Term                              0\n",
            "Unit                          60759\n",
            "Purpose                        6059\n",
            "Source                          544\n",
            "dtype: int64\n"
          ]
        }
      ],
      "source": [
        "import numpy as np\n",
        "\n",
        "# list all species of unidentified origin\n",
        "trade.replace(\"\", np.nan, inplace=True)\n",
        "\n",
        "# count missing values\n",
        "print(trade.isna().sum())"
      ]
    },
    {
      "cell_type": "markdown",
      "metadata": {
        "id": "jQLRS7NhJgAw"
      },
      "source": [
        "The empty strings have been properly formatted as nulls; and, as expected, the number of nulls has increased for several columns.\n",
        "\n",
        "Next, the nulls will be adressed."
      ]
    },
    {
      "cell_type": "markdown",
      "metadata": {
        "id": "vmBxhum_JgAw"
      },
      "source": [
        "Upon taking a closer look at the data frame, it appears that the quantity traded is either reported by the Importer or the Exporter, but not both. This is a perfect scenario for the coalesce function."
      ]
    },
    {
      "cell_type": "code",
      "execution_count": 34,
      "metadata": {
        "execution": {
          "iopub.execute_input": "2022-03-13T21:02:16.47816Z",
          "iopub.status.busy": "2022-03-13T21:02:16.476174Z",
          "iopub.status.idle": "2022-03-13T21:02:16.52667Z"
        },
        "id": "MG5se1RnJgAw",
        "trusted": true
      },
      "outputs": [
        {
          "data": {
            "text/plain": [
              "Year            0\n",
              "App.            0\n",
              "Taxon           0\n",
              "Class       20224\n",
              "Order          57\n",
              "Family        461\n",
              "Genus        1459\n",
              "Importer       71\n",
              "Exporter      573\n",
              "Origin      41518\n",
              "Term            0\n",
              "Unit        60759\n",
              "Purpose      6059\n",
              "Source        544\n",
              "Quantity        0\n",
              "dtype: int64"
            ]
          },
          "execution_count": 34,
          "metadata": {},
          "output_type": "execute_result"
        }
      ],
      "source": [
        "# coalesce importer and exporter reported quantity\n",
        "trade['Quantity'] = trade[['Importer reported quantity', 'Exporter reported quantity']].bfill(axis=1).iloc[:, 0]\n",
        "\n",
        "# drop redundant columns\n",
        "trade.drop(columns=['Importer reported quantity', 'Exporter reported quantity'], inplace=True)\n",
        "\n",
        "# count missing values\n",
        "trade.isna().sum()"
      ]
    },
    {
      "cell_type": "markdown",
      "metadata": {
        "id": "OfsgsN5rJgAw"
      },
      "source": [
        "The \"Quantity\" column is complete.\n",
        "\n",
        "Another quick fix is the \"Genus\" column. The genus of a species is also the first word in its Taxon; and, the \"Taxon\" column is complete, so it can serve as a reference."
      ]
    },
    {
      "cell_type": "code",
      "execution_count": 38,
      "metadata": {
        "execution": {
          "iopub.execute_input": "2022-03-13T21:02:17.173957Z",
          "iopub.status.busy": "2022-03-13T21:02:17.172305Z",
          "iopub.status.idle": "2022-03-13T21:02:18.234084Z"
        },
        "id": "0zMHpC6YJgAw",
        "trusted": true
      },
      "outputs": [
        {
          "name": "stdout",
          "output_type": "stream",
          "text": [
            "Year            0\n",
            "App.            0\n",
            "Taxon           0\n",
            "Class       20224\n",
            "Order          57\n",
            "Family        461\n",
            "Importer       71\n",
            "Exporter      573\n",
            "Origin      41518\n",
            "Term            0\n",
            "Unit        60759\n",
            "Purpose      6059\n",
            "Source        544\n",
            "Quantity        0\n",
            "Genus           0\n",
            "dtype: int64\n"
          ]
        }
      ],
      "source": [
        "# duplicate Taxon column\n",
        "trade['duplicate'] = trade['Taxon']\n",
        "\n",
        "# generate complete Genus column\n",
        "trade[['Genus', 'species']] = trade['duplicate'].str.split(' ', n=1, expand=True)\n",
        "trade = trade.drop(columns=['species', 'duplicate'])\n",
        "\n",
        "# count missing values\n",
        "print(trade.isna().sum())"
      ]
    },
    {
      "cell_type": "markdown",
      "metadata": {
        "id": "WzlnbZwkJgAx"
      },
      "source": [
        "The remaining columns are not as simple to address. \"Importer\", \"Exporter\", \"Origin\", \"Purpose\", and \"Source\" could be predicted based on the available information, but that will be unnecessary and likely inaccurate.\n",
        "\n",
        "\"Class\", \"Order\", and \"Family\" can be scraped from the internet based on \"Taxon\", but this will also be unnecessary.\n",
        "\n",
        "Finally, the \"Unit\" column is mostly nulls because most of the quantities are in counts rather than physical units, so this is okay."
      ]
    },
    {
      "cell_type": "markdown",
      "metadata": {
        "id": "K9B391JjJgAx"
      },
      "source": [
        "### Filtering"
      ]
    },
    {
      "cell_type": "markdown",
      "metadata": {
        "id": "dnEgJf3aJgAx"
      },
      "source": [
        "The main assumption of this analysis is that removing species from the wild or slaughtering them for goods directly contributes to their endangerment, and trading or slaughtering species already in captivity does not directly contribute to their endangerment."
      ]
    },
    {
      "cell_type": "code",
      "execution_count": 40,
      "metadata": {
        "execution": {
          "iopub.execute_input": "2022-03-13T21:02:18.585741Z",
          "iopub.status.busy": "2022-03-13T21:02:18.58415Z",
          "iopub.status.idle": "2022-03-13T21:02:18.604089Z"
        },
        "id": "uUD0AWZLJgAx",
        "trusted": true
      },
      "outputs": [],
      "source": [
        "# filter out all species born in captivity or artificially grown in a controlled environment\n",
        "trade = trade[trade['Source'].isin(['W', 'X'])]"
      ]
    },
    {
      "cell_type": "markdown",
      "metadata": {
        "id": "VrMxwJYzJgAx"
      },
      "source": [
        "The only records that have been kept are those that *explicitly* state that the species was taken from the wild (Purpose = W) or the ocean (Purpose = X); and, for the purposes of this analysis, the ocean can be considered equivalent to the wild so this column will now be dropped.\n",
        "\n",
        "The \"Year\" column will also be dropped because it does not have any (or very little) information— all of the data is from 2016 with only a few records from 2017.\n",
        "\n",
        "Finally, the columns \"Class\", \"Order\", \"Family\", and \"Origin\" will be dropped because they will not be necessary."
      ]
    },
    {
      "cell_type": "code",
      "execution_count": 42,
      "metadata": {
        "execution": {
          "iopub.execute_input": "2022-03-13T21:02:19.592529Z",
          "iopub.status.busy": "2022-03-13T21:02:19.590917Z",
          "iopub.status.idle": "2022-03-13T21:02:19.616873Z"
        },
        "id": "nns7P0aZJgAx",
        "trusted": true
      },
      "outputs": [
        {
          "name": "stdout",
          "output_type": "stream",
          "text": [
            "App.            0\n",
            "Taxon           0\n",
            "Importer       20\n",
            "Exporter      535\n",
            "Term            0\n",
            "Unit        19537\n",
            "Purpose        50\n",
            "Quantity        0\n",
            "Genus           0\n",
            "dtype: int64\n"
          ]
        }
      ],
      "source": [
        "# drop columns\n",
        "trade = trade.drop(columns=['Source', 'Year', 'Class', 'Order', 'Family', 'Origin'])\n",
        "\n",
        "# count missing values\n",
        "print(trade.isna().sum())"
      ]
    },
    {
      "cell_type": "markdown",
      "metadata": {
        "id": "XL6IeTlvJgAx"
      },
      "source": [
        "The remaining nulls will be dropped (aside from the \"Unit\" column)."
      ]
    },
    {
      "cell_type": "code",
      "execution_count": 44,
      "metadata": {
        "execution": {
          "iopub.execute_input": "2022-03-13T21:02:20.539777Z",
          "iopub.status.busy": "2022-03-13T21:02:20.538129Z",
          "iopub.status.idle": "2022-03-13T21:02:20.564151Z"
        },
        "id": "_yoNnaDnJgAx",
        "trusted": true
      },
      "outputs": [
        {
          "name": "stdout",
          "output_type": "stream",
          "text": [
            "App.            0\n",
            "Taxon           0\n",
            "Importer        0\n",
            "Exporter        0\n",
            "Term            0\n",
            "Unit        18978\n",
            "Purpose         0\n",
            "Quantity        0\n",
            "Genus           0\n",
            "dtype: int64\n"
          ]
        }
      ],
      "source": [
        "# drop nulls\n",
        "trade = trade.dropna(subset=[col for col in trade.columns if col != 'Unit'])\n",
        "\n",
        "# count missing values\n",
        "print(trade.isna().sum())"
      ]
    },
    {
      "cell_type": "markdown",
      "metadata": {
        "id": "kNHqyAZKJgAx"
      },
      "source": [
        "# Analysis & Visualization"
      ]
    },
    {
      "cell_type": "markdown",
      "metadata": {
        "_kg_hide-input": false,
        "id": "mn_3T2-BJgAy"
      },
      "source": [
        "Importers drive trade, because without their demand there woudld be no incentive for exporters to collect goods in the first place.\n",
        "\n",
        "So, who are the largest importers?"
      ]
    },
    {
      "cell_type": "code",
      "execution_count": 46,
      "metadata": {
        "execution": {
          "iopub.execute_input": "2022-03-13T21:02:22.070133Z",
          "iopub.status.busy": "2022-03-13T21:02:22.068562Z",
          "iopub.status.idle": "2022-03-13T21:02:22.117112Z"
        },
        "id": "8abqdZFdJgAy",
        "trusted": true
      },
      "outputs": [],
      "source": [
        "# 10 most frequent Importers\n",
        "imp = (\n",
        "\ttrade.groupby('Importer')\n",
        "\t.size()\n",
        "\t.reset_index(name='count')\n",
        "\t.sort_values(by='count', ascending=False)\n",
        "\t.head(10)\n",
        "\t.sort_values(by='count')\n",
        ")\n",
        "\n",
        "# preserve order in plot\n",
        "imp['Importer'] = pd.Categorical(imp['Importer'], categories=imp['Importer'].unique(), ordered=True)"
      ]
    },
    {
      "cell_type": "code",
      "execution_count": 48,
      "metadata": {
        "execution": {
          "iopub.execute_input": "2022-03-13T21:02:22.539839Z",
          "iopub.status.busy": "2022-03-13T21:02:22.538113Z",
          "iopub.status.idle": "2022-03-13T21:02:23.039256Z"
        },
        "id": "ANoSDvN2JgAy",
        "trusted": true
      },
      "outputs": [
        {
          "name": "stderr",
          "output_type": "stream",
          "text": [
            "/tmp/ipykernel_257818/1056843185.py:2: FutureWarning: \n",
            "\n",
            "Passing `palette` without assigning `hue` is deprecated and will be removed in v0.14.0. Assign the `x` variable to `hue` and set `legend=False` for the same effect.\n",
            "\n",
            "  sns.barplot(data=imp, x='Importer', y='count', palette='inferno')\n"
          ]
        },
        {
          "data": {
            "image/png": "[encoded data removed]",
            "text/plain": [
              "<Figure size 640x480 with 1 Axes>"
            ]
          },
          "metadata": {},
          "output_type": "display_data"
        }
      ],
      "source": [
        "# bar plot\n",
        "sns.barplot(data=imp, x='Importer', y='count', palette='inferno')\n",
        "plt.xticks(rotation=45)\n",
        "plt.xlabel('Importer')\n",
        "plt.ylabel('Count')\n",
        "plt.title('Top 10 Importers')\n",
        "plt.show()"
      ]
    },
    {
      "cell_type": "markdown",
      "metadata": {
        "id": "qEAgb6x4JgAy"
      },
      "source": [
        "The U.S. is by far the largest importer of wildlife goods with almost *double* the imports of Japan and Germany combined (second and third largest, respectively)."
      ]
    },
    {
      "cell_type": "markdown",
      "metadata": {
        "id": "yfj_cU9tJgAy"
      },
      "source": [
        "Which species are the most in danger?"
      ]
    },
    {
      "cell_type": "code",
      "execution_count": 53,
      "metadata": {
        "execution": {
          "iopub.execute_input": "2022-03-13T23:29:56.012684Z",
          "iopub.status.busy": "2022-03-13T23:29:56.010569Z",
          "iopub.status.idle": "2022-03-13T23:29:57.393079Z"
        },
        "id": "PeXzUV9HJgAy",
        "trusted": true
      },
      "outputs": [
        {
          "data": {
            "image/png": "[encoded data removed]"
          },
          "metadata": {
            "image/png": {
              "height": 480,
              "width": 640
            }
          },
          "output_type": "display_data"
        }
      ],
      "source": [
        "# %pip install plotnine\n",
        "\n",
        "# Import plotnine\n",
        "from plotnine import ggplot, aes, geom_col, theme, element_blank\n",
        "\n",
        "# distribution of species\n",
        "(\n",
        "    trade.groupby('Taxon')\n",
        "    .size()\n",
        "    .reset_index(name='count')\n",
        "    .pipe(\n",
        "        lambda df: ggplot(df)\n",
        "        + geom_col(aes(x='Taxon', y='count'))\n",
        "        + theme(axis_text_x=element_blank(), axis_ticks_x=element_blank())\n",
        "    )\n",
        ")"
      ]
    },
    {
      "cell_type": "markdown",
      "metadata": {
        "id": "_2yVmr36JgAy"
      },
      "source": [
        "It looks like there are a few different species that are being traded more than 250 times a year."
      ]
    },
    {
      "cell_type": "code",
      "execution_count": 55,
      "metadata": {
        "execution": {
          "iopub.execute_input": "2022-03-13T21:02:28.316805Z",
          "iopub.status.busy": "2022-03-13T21:02:28.315427Z",
          "iopub.status.idle": "2022-03-13T21:02:28.376688Z"
        },
        "id": "S2NmxK5YJgA2",
        "trusted": true
      },
      "outputs": [
        {
          "name": "stdout",
          "output_type": "stream",
          "text": [
            "                           Taxon  count\n",
            "144   Alligator mississippiensis   1483\n",
            "1529          Python reticulatus   1083\n",
            "1788            Varanus salvator    876\n",
            "1783           Varanus niloticus    668\n",
            "379     Caiman crocodilus yacare    460\n",
            "1067          Loxodonta africana    431\n",
            "1525          Python brongersmai    344\n",
            "1791             Vicugna vicugna    273\n",
            "544         Crocodylus niloticus    257\n"
          ]
        }
      ],
      "source": [
        "# species with more than 250 records\n",
        "endangered = (\n",
        "\ttrade.groupby('Taxon')\n",
        "\t.size()\n",
        "\t.reset_index(name='count')\n",
        "\t.sort_values(by='count', ascending=False)\n",
        "\t.query('count > 250')\n",
        ")\n",
        "\n",
        "# display dataframe\n",
        "print(endangered)"
      ]
    },
    {
      "cell_type": "markdown",
      "metadata": {
        "id": "DDDdexJ7JgA2"
      },
      "source": [
        "What is the purpose for capturing these species?"
      ]
    },
    {
      "cell_type": "code",
      "execution_count": 57,
      "metadata": {
        "execution": {
          "iopub.execute_input": "2022-03-13T21:18:13.324759Z",
          "iopub.status.busy": "2022-03-13T21:18:13.322696Z",
          "iopub.status.idle": "2022-03-13T21:18:13.353838Z"
        },
        "id": "tMPrkMRFJgA2",
        "trusted": true
      },
      "outputs": [],
      "source": [
        "# distribution of purpose for each species\n",
        "purp_summary = (\n",
        "    trade[trade['Taxon'].isin(endangered['Taxon'])]\n",
        "    .groupby(['Taxon', 'Purpose'])\n",
        "    .size()\n",
        "    .reset_index(name='count')\n",
        "    .sort_values(by='count')\n",
        ")\n",
        "\n",
        "# preserve order in plot\n",
        "purp_summary['Purpose'] = pd.Categorical(purp_summary['Purpose'], categories=purp_summary['Purpose'].unique(), ordered=True)"
      ]
    },
    {
      "cell_type": "code",
      "execution_count": 65,
      "metadata": {
        "execution": {
          "iopub.execute_input": "2022-03-13T21:18:15.632357Z",
          "iopub.status.busy": "2022-03-13T21:18:15.630683Z",
          "iopub.status.idle": "2022-03-13T21:18:16.470754Z"
        },
        "id": "eIQQegmOJgA2",
        "trusted": true
      },
      "outputs": [
        {
          "ename": "AttributeError",
          "evalue": "'numpy.ndarray' object has no attribute 'lower'",
          "output_type": "error",
          "traceback": [
            "\u001b[31m---------------------------------------------------------------------------\u001b[39m",
            "\u001b[31mAttributeError\u001b[39m                            Traceback (most recent call last)",
            "\u001b[36mFile \u001b[39m\u001b[32m~/miniconda3/lib/python3.12/site-packages/IPython/core/formatters.py:984\u001b[39m, in \u001b[36mIPythonDisplayFormatter.__call__\u001b[39m\u001b[34m(self, obj)\u001b[39m\n\u001b[32m    982\u001b[39m method = get_real_method(obj, \u001b[38;5;28mself\u001b[39m.print_method)\n\u001b[32m    983\u001b[39m \u001b[38;5;28;01mif\u001b[39;00m method \u001b[38;5;129;01mis\u001b[39;00m \u001b[38;5;129;01mnot\u001b[39;00m \u001b[38;5;28;01mNone\u001b[39;00m:\n\u001b[32m--> \u001b[39m\u001b[32m984\u001b[39m     \u001b[43mmethod\u001b[49m\u001b[43m(\u001b[49m\u001b[43m)\u001b[49m\n\u001b[32m    985\u001b[39m     \u001b[38;5;28;01mreturn\u001b[39;00m \u001b[38;5;28;01mTrue\u001b[39;00m\n",
            "\u001b[36mFile \u001b[39m\u001b[32m~/miniconda3/lib/python3.12/site-packages/plotnine/ggplot.py:141\u001b[39m, in \u001b[36mggplot._ipython_display_\u001b[39m\u001b[34m(self)\u001b[39m\n\u001b[32m    134\u001b[39m \u001b[38;5;28;01mdef\u001b[39;00m\u001b[38;5;250m \u001b[39m\u001b[34m_ipython_display_\u001b[39m(\u001b[38;5;28mself\u001b[39m):\n\u001b[32m    135\u001b[39m \u001b[38;5;250m    \u001b[39m\u001b[33;03m\"\"\"\u001b[39;00m\n\u001b[32m    136\u001b[39m \u001b[33;03m    Display plot in the output of the cell\u001b[39;00m\n\u001b[32m    137\u001b[39m \n\u001b[32m    138\u001b[39m \u001b[33;03m    This method will always be called when a ggplot object is the\u001b[39;00m\n\u001b[32m    139\u001b[39m \u001b[33;03m    last in the cell.\u001b[39;00m\n\u001b[32m    140\u001b[39m \u001b[33;03m    \"\"\"\u001b[39;00m\n\u001b[32m--> \u001b[39m\u001b[32m141\u001b[39m     \u001b[38;5;28;43mself\u001b[39;49m\u001b[43m.\u001b[49m\u001b[43m_display\u001b[49m\u001b[43m(\u001b[49m\u001b[43m)\u001b[49m\n",
            "\u001b[36mFile \u001b[39m\u001b[32m~/miniconda3/lib/python3.12/site-packages/plotnine/ggplot.py:181\u001b[39m, in \u001b[36mggplot._display\u001b[39m\u001b[34m(self)\u001b[39m\n\u001b[32m    179\u001b[39m figure_size_px = \u001b[38;5;28mself\u001b[39m.theme._figure_size_px\n\u001b[32m    180\u001b[39m buf = BytesIO()\n\u001b[32m--> \u001b[39m\u001b[32m181\u001b[39m \u001b[38;5;28;43mself\u001b[39;49m\u001b[43m.\u001b[49m\u001b[43msave\u001b[49m\u001b[43m(\u001b[49m\u001b[43mbuf\u001b[49m\u001b[43m,\u001b[49m\u001b[43m \u001b[49m\u001b[38;5;28;43mformat\u001b[39;49m\u001b[43m=\u001b[49m\u001b[43msave_format\u001b[49m\u001b[43m,\u001b[49m\u001b[43m \u001b[49m\u001b[43mverbose\u001b[49m\u001b[43m=\u001b[49m\u001b[38;5;28;43;01mFalse\u001b[39;49;00m\u001b[43m)\u001b[49m\n\u001b[32m    182\u001b[39m display_func = get_display_function(\u001b[38;5;28mformat\u001b[39m, figure_size_px)\n\u001b[32m    183\u001b[39m display_func(buf.getvalue())\n",
            "\u001b[36mFile \u001b[39m\u001b[32m~/miniconda3/lib/python3.12/site-packages/plotnine/ggplot.py:673\u001b[39m, in \u001b[36mggplot.save\u001b[39m\u001b[34m(self, filename, format, path, width, height, units, dpi, limitsize, verbose, **kwargs)\u001b[39m\n\u001b[32m    624\u001b[39m \u001b[38;5;28;01mdef\u001b[39;00m\u001b[38;5;250m \u001b[39m\u001b[34msave\u001b[39m(\n\u001b[32m    625\u001b[39m     \u001b[38;5;28mself\u001b[39m,\n\u001b[32m    626\u001b[39m     filename: Optional[\u001b[38;5;28mstr\u001b[39m | Path | BytesIO] = \u001b[38;5;28;01mNone\u001b[39;00m,\n\u001b[32m   (...)\u001b[39m\u001b[32m    635\u001b[39m     **kwargs: Any,\n\u001b[32m    636\u001b[39m ):\n\u001b[32m    637\u001b[39m \u001b[38;5;250m    \u001b[39m\u001b[33;03m\"\"\"\u001b[39;00m\n\u001b[32m    638\u001b[39m \u001b[33;03m    Save a ggplot object as an image file\u001b[39;00m\n\u001b[32m    639\u001b[39m \n\u001b[32m   (...)\u001b[39m\u001b[32m    671\u001b[39m \u001b[33;03m        Additional arguments to pass to matplotlib `savefig()`.\u001b[39;00m\n\u001b[32m    672\u001b[39m \u001b[33;03m    \"\"\"\u001b[39;00m\n\u001b[32m--> \u001b[39m\u001b[32m673\u001b[39m     sv = \u001b[38;5;28;43mself\u001b[39;49m\u001b[43m.\u001b[49m\u001b[43msave_helper\u001b[49m\u001b[43m(\u001b[49m\n\u001b[32m    674\u001b[39m \u001b[43m        \u001b[49m\u001b[43mfilename\u001b[49m\u001b[43m=\u001b[49m\u001b[43mfilename\u001b[49m\u001b[43m,\u001b[49m\n\u001b[32m    675\u001b[39m \u001b[43m        \u001b[49m\u001b[38;5;28;43mformat\u001b[39;49m\u001b[43m=\u001b[49m\u001b[38;5;28;43mformat\u001b[39;49m\u001b[43m,\u001b[49m\n\u001b[32m    676\u001b[39m \u001b[43m        \u001b[49m\u001b[43mpath\u001b[49m\u001b[43m=\u001b[49m\u001b[43mpath\u001b[49m\u001b[43m,\u001b[49m\n\u001b[32m    677\u001b[39m \u001b[43m        \u001b[49m\u001b[43mwidth\u001b[49m\u001b[43m=\u001b[49m\u001b[43mwidth\u001b[49m\u001b[43m,\u001b[49m\n\u001b[32m    678\u001b[39m \u001b[43m        \u001b[49m\u001b[43mheight\u001b[49m\u001b[43m=\u001b[49m\u001b[43mheight\u001b[49m\u001b[43m,\u001b[49m\n\u001b[32m    679\u001b[39m \u001b[43m        \u001b[49m\u001b[43munits\u001b[49m\u001b[43m=\u001b[49m\u001b[43munits\u001b[49m\u001b[43m,\u001b[49m\n\u001b[32m    680\u001b[39m \u001b[43m        \u001b[49m\u001b[43mdpi\u001b[49m\u001b[43m=\u001b[49m\u001b[43mdpi\u001b[49m\u001b[43m,\u001b[49m\n\u001b[32m    681\u001b[39m \u001b[43m        \u001b[49m\u001b[43mlimitsize\u001b[49m\u001b[43m=\u001b[49m\u001b[43mlimitsize\u001b[49m\u001b[43m,\u001b[49m\n\u001b[32m    682\u001b[39m \u001b[43m        \u001b[49m\u001b[43mverbose\u001b[49m\u001b[43m=\u001b[49m\u001b[43mverbose\u001b[49m\u001b[43m,\u001b[49m\n\u001b[32m    683\u001b[39m \u001b[43m        \u001b[49m\u001b[43m*\u001b[49m\u001b[43m*\u001b[49m\u001b[43mkwargs\u001b[49m\u001b[43m,\u001b[49m\n\u001b[32m    684\u001b[39m \u001b[43m    \u001b[49m\u001b[43m)\u001b[49m\n\u001b[32m    686\u001b[39m     \u001b[38;5;28;01mwith\u001b[39;00m plot_context(\u001b[38;5;28mself\u001b[39m).rc_context:\n\u001b[32m    687\u001b[39m         sv.figure.savefig(**sv.kwargs)\n",
            "\u001b[36mFile \u001b[39m\u001b[32m~/miniconda3/lib/python3.12/site-packages/plotnine/ggplot.py:621\u001b[39m, in \u001b[36mggplot.save_helper\u001b[39m\u001b[34m(self, filename, format, path, width, height, units, dpi, limitsize, verbose, **kwargs)\u001b[39m\n\u001b[32m    618\u001b[39m \u001b[38;5;28;01mif\u001b[39;00m dpi \u001b[38;5;129;01mis\u001b[39;00m \u001b[38;5;129;01mnot\u001b[39;00m \u001b[38;5;28;01mNone\u001b[39;00m:\n\u001b[32m    619\u001b[39m     \u001b[38;5;28mself\u001b[39m.theme = \u001b[38;5;28mself\u001b[39m.theme + theme(dpi=dpi)\n\u001b[32m--> \u001b[39m\u001b[32m621\u001b[39m figure = \u001b[38;5;28;43mself\u001b[39;49m\u001b[43m.\u001b[49m\u001b[43mdraw\u001b[49m\u001b[43m(\u001b[49m\u001b[43mshow\u001b[49m\u001b[43m=\u001b[49m\u001b[38;5;28;43;01mFalse\u001b[39;49;00m\u001b[43m)\u001b[49m\n\u001b[32m    622\u001b[39m \u001b[38;5;28;01mreturn\u001b[39;00m mpl_save_view(figure, fig_kwargs)\n",
            "\u001b[36mFile \u001b[39m\u001b[32m~/miniconda3/lib/python3.12/site-packages/plotnine/ggplot.py:286\u001b[39m, in \u001b[36mggplot.draw\u001b[39m\u001b[34m(self, show)\u001b[39m\n\u001b[32m    283\u001b[39m \u001b[38;5;28mself\u001b[39m.theme.setup(\u001b[38;5;28mself\u001b[39m)\n\u001b[32m    285\u001b[39m \u001b[38;5;66;03m# Drawing\u001b[39;00m\n\u001b[32m--> \u001b[39m\u001b[32m286\u001b[39m \u001b[38;5;28;43mself\u001b[39;49m\u001b[43m.\u001b[49m\u001b[43m_draw_layers\u001b[49m\u001b[43m(\u001b[49m\u001b[43m)\u001b[49m\n\u001b[32m    287\u001b[39m \u001b[38;5;28mself\u001b[39m._draw_panel_borders()\n\u001b[32m    288\u001b[39m \u001b[38;5;28mself\u001b[39m._draw_breaks_and_labels()\n",
            "\u001b[36mFile \u001b[39m\u001b[32m~/miniconda3/lib/python3.12/site-packages/plotnine/ggplot.py:450\u001b[39m, in \u001b[36mggplot._draw_layers\u001b[39m\u001b[34m(self)\u001b[39m\n\u001b[32m    446\u001b[39m \u001b[38;5;250m\u001b[39m\u001b[33;03m\"\"\"\u001b[39;00m\n\u001b[32m    447\u001b[39m \u001b[33;03mDraw the main plot(s) onto the axes.\u001b[39;00m\n\u001b[32m    448\u001b[39m \u001b[33;03m\"\"\"\u001b[39;00m\n\u001b[32m    449\u001b[39m \u001b[38;5;66;03m# Draw the geoms\u001b[39;00m\n\u001b[32m--> \u001b[39m\u001b[32m450\u001b[39m \u001b[38;5;28;43mself\u001b[39;49m\u001b[43m.\u001b[49m\u001b[43mlayers\u001b[49m\u001b[43m.\u001b[49m\u001b[43mdraw\u001b[49m\u001b[43m(\u001b[49m\u001b[38;5;28;43mself\u001b[39;49m\u001b[43m.\u001b[49m\u001b[43mlayout\u001b[49m\u001b[43m,\u001b[49m\u001b[43m \u001b[49m\u001b[38;5;28;43mself\u001b[39;49m\u001b[43m.\u001b[49m\u001b[43mcoordinates\u001b[49m\u001b[43m)\u001b[49m\n",
            "\u001b[36mFile \u001b[39m\u001b[32m~/miniconda3/lib/python3.12/site-packages/plotnine/layer.py:464\u001b[39m, in \u001b[36mLayers.draw\u001b[39m\u001b[34m(self, layout, coord)\u001b[39m\n\u001b[32m    462\u001b[39m \u001b[38;5;28;01mfor\u001b[39;00m i, l \u001b[38;5;129;01min\u001b[39;00m \u001b[38;5;28menumerate\u001b[39m(\u001b[38;5;28mself\u001b[39m, start=\u001b[32m1\u001b[39m):\n\u001b[32m    463\u001b[39m     l.zorder = i\n\u001b[32m--> \u001b[39m\u001b[32m464\u001b[39m     \u001b[43ml\u001b[49m\u001b[43m.\u001b[49m\u001b[43mdraw\u001b[49m\u001b[43m(\u001b[49m\u001b[43mlayout\u001b[49m\u001b[43m,\u001b[49m\u001b[43m \u001b[49m\u001b[43mcoord\u001b[49m\u001b[43m)\u001b[49m\n",
            "\u001b[36mFile \u001b[39m\u001b[32m~/miniconda3/lib/python3.12/site-packages/plotnine/layer.py:367\u001b[39m, in \u001b[36mlayer.draw\u001b[39m\u001b[34m(self, layout, coord)\u001b[39m\n\u001b[32m    364\u001b[39m \u001b[38;5;28mself\u001b[39m.data = \u001b[38;5;28mself\u001b[39m.geom.handle_na(\u001b[38;5;28mself\u001b[39m.data)\n\u001b[32m    365\u001b[39m \u001b[38;5;66;03m# At this point each layer must have the data\u001b[39;00m\n\u001b[32m    366\u001b[39m \u001b[38;5;66;03m# that is created by the plot build process\u001b[39;00m\n\u001b[32m--> \u001b[39m\u001b[32m367\u001b[39m \u001b[38;5;28;43mself\u001b[39;49m\u001b[43m.\u001b[49m\u001b[43mgeom\u001b[49m\u001b[43m.\u001b[49m\u001b[43mdraw_layer\u001b[49m\u001b[43m(\u001b[49m\u001b[38;5;28;43mself\u001b[39;49m\u001b[43m.\u001b[49m\u001b[43mdata\u001b[49m\u001b[43m,\u001b[49m\u001b[43m \u001b[49m\u001b[43mlayout\u001b[49m\u001b[43m,\u001b[49m\u001b[43m \u001b[49m\u001b[43mcoord\u001b[49m\u001b[43m,\u001b[49m\u001b[43m \u001b[49m\u001b[43m*\u001b[49m\u001b[43m*\u001b[49m\u001b[43mparams\u001b[49m\u001b[43m)\u001b[49m\n",
            "\u001b[36mFile \u001b[39m\u001b[32m~/miniconda3/lib/python3.12/site-packages/plotnine/geoms/geom.py:292\u001b[39m, in \u001b[36mgeom.draw_layer\u001b[39m\u001b[34m(self, data, layout, coord, **params)\u001b[39m\n\u001b[32m    290\u001b[39m panel_params = layout.panel_params[ploc]\n\u001b[32m    291\u001b[39m ax = layout.axs[ploc]\n\u001b[32m--> \u001b[39m\u001b[32m292\u001b[39m \u001b[38;5;28;43mself\u001b[39;49m\u001b[43m.\u001b[49m\u001b[43mdraw_panel\u001b[49m\u001b[43m(\u001b[49m\u001b[43mpdata\u001b[49m\u001b[43m,\u001b[49m\u001b[43m \u001b[49m\u001b[43mpanel_params\u001b[49m\u001b[43m,\u001b[49m\u001b[43m \u001b[49m\u001b[43mcoord\u001b[49m\u001b[43m,\u001b[49m\u001b[43m \u001b[49m\u001b[43max\u001b[49m\u001b[43m,\u001b[49m\u001b[43m \u001b[49m\u001b[43m*\u001b[49m\u001b[43m*\u001b[49m\u001b[43mparams\u001b[49m\u001b[43m)\u001b[49m\n",
            "\u001b[36mFile \u001b[39m\u001b[32m~/miniconda3/lib/python3.12/site-packages/plotnine/geoms/geom_rect.py:68\u001b[39m, in \u001b[36mgeom_rect.draw_panel\u001b[39m\u001b[34m(self, data, panel_params, coord, ax, **params)\u001b[39m\n\u001b[32m     64\u001b[39m         geom_polygon.draw_group(\n\u001b[32m     65\u001b[39m             gdata, panel_params, coord, ax, **params\n\u001b[32m     66\u001b[39m         )\n\u001b[32m     67\u001b[39m \u001b[38;5;28;01melse\u001b[39;00m:\n\u001b[32m---> \u001b[39m\u001b[32m68\u001b[39m     \u001b[38;5;28;43mself\u001b[39;49m\u001b[43m.\u001b[49m\u001b[43mdraw_group\u001b[49m\u001b[43m(\u001b[49m\u001b[43mdata\u001b[49m\u001b[43m,\u001b[49m\u001b[43m \u001b[49m\u001b[43mpanel_params\u001b[49m\u001b[43m,\u001b[49m\u001b[43m \u001b[49m\u001b[43mcoord\u001b[49m\u001b[43m,\u001b[49m\u001b[43m \u001b[49m\u001b[43max\u001b[49m\u001b[43m,\u001b[49m\u001b[43m \u001b[49m\u001b[43m*\u001b[49m\u001b[43m*\u001b[49m\u001b[43mparams\u001b[49m\u001b[43m)\u001b[49m\n",
            "\u001b[36mFile \u001b[39m\u001b[32m~/miniconda3/lib/python3.12/site-packages/plotnine/geoms/geom_rect.py:87\u001b[39m, in \u001b[36mgeom_rect.draw_group\u001b[39m\u001b[34m(data, panel_params, coord, ax, **params)\u001b[39m\n\u001b[32m     83\u001b[39m limits = \u001b[38;5;28mzip\u001b[39m(data[\u001b[33m\"\u001b[39m\u001b[33mxmin\u001b[39m\u001b[33m\"\u001b[39m], data[\u001b[33m\"\u001b[39m\u001b[33mxmax\u001b[39m\u001b[33m\"\u001b[39m], data[\u001b[33m\"\u001b[39m\u001b[33mymin\u001b[39m\u001b[33m\"\u001b[39m], data[\u001b[33m\"\u001b[39m\u001b[33mymax\u001b[39m\u001b[33m\"\u001b[39m])\n\u001b[32m     85\u001b[39m verts = [[(l, b), (l, t), (r, t), (r, b)] \u001b[38;5;28;01mfor\u001b[39;00m (l, r, b, t) \u001b[38;5;129;01min\u001b[39;00m limits]\n\u001b[32m---> \u001b[39m\u001b[32m87\u001b[39m fill = \u001b[43mto_rgba\u001b[49m\u001b[43m(\u001b[49m\u001b[43mdata\u001b[49m\u001b[43m[\u001b[49m\u001b[33;43m\"\u001b[39;49m\u001b[33;43mfill\u001b[39;49m\u001b[33;43m\"\u001b[39;49m\u001b[43m]\u001b[49m\u001b[43m,\u001b[49m\u001b[43m \u001b[49m\u001b[43mdata\u001b[49m\u001b[43m[\u001b[49m\u001b[33;43m\"\u001b[39;49m\u001b[33;43malpha\u001b[39;49m\u001b[33;43m\"\u001b[39;49m\u001b[43m]\u001b[49m\u001b[43m)\u001b[49m\n\u001b[32m     88\u001b[39m color = data[\u001b[33m\"\u001b[39m\u001b[33mcolor\u001b[39m\u001b[33m\"\u001b[39m]\n\u001b[32m     90\u001b[39m \u001b[38;5;66;03m# prevent unnecessary borders\u001b[39;00m\n",
            "\u001b[36mFile \u001b[39m\u001b[32m~/miniconda3/lib/python3.12/site-packages/plotnine/_utils/__init__.py:609\u001b[39m, in \u001b[36mto_rgba\u001b[39m\u001b[34m(colors, alpha)\u001b[39m\n\u001b[32m    606\u001b[39m \u001b[38;5;28;01mif\u001b[39;00m is_iterable(colors):\n\u001b[32m    607\u001b[39m     colors = cast(Sequence[\u001b[33m\"\u001b[39m\u001b[33mColorType\u001b[39m\u001b[33m\"\u001b[39m], colors)\n\u001b[32m--> \u001b[39m\u001b[32m609\u001b[39m     \u001b[38;5;28;01mif\u001b[39;00m \u001b[38;5;28;43mall\u001b[39;49m\u001b[43m(\u001b[49m\u001b[43mno_color\u001b[49m\u001b[43m(\u001b[49m\u001b[43mc\u001b[49m\u001b[43m)\u001b[49m\u001b[43m \u001b[49m\u001b[38;5;28;43;01mfor\u001b[39;49;00m\u001b[43m \u001b[49m\u001b[43mc\u001b[49m\u001b[43m \u001b[49m\u001b[38;5;129;43;01min\u001b[39;49;00m\u001b[43m \u001b[49m\u001b[43mcolors\u001b[49m\u001b[43m)\u001b[49m:\n\u001b[32m    610\u001b[39m         \u001b[38;5;28;01mreturn\u001b[39;00m \u001b[33m\"\u001b[39m\u001b[33mnone\u001b[39m\u001b[33m\"\u001b[39m\n\u001b[32m    612\u001b[39m     \u001b[38;5;28;01mif\u001b[39;00m \u001b[38;5;28misinstance\u001b[39m(alpha, (Sequence, pd.Series)):\n",
            "\u001b[36mFile \u001b[39m\u001b[32m~/miniconda3/lib/python3.12/site-packages/plotnine/_utils/__init__.py:609\u001b[39m, in \u001b[36m<genexpr>\u001b[39m\u001b[34m(.0)\u001b[39m\n\u001b[32m    606\u001b[39m \u001b[38;5;28;01mif\u001b[39;00m is_iterable(colors):\n\u001b[32m    607\u001b[39m     colors = cast(Sequence[\u001b[33m\"\u001b[39m\u001b[33mColorType\u001b[39m\u001b[33m\"\u001b[39m], colors)\n\u001b[32m--> \u001b[39m\u001b[32m609\u001b[39m     \u001b[38;5;28;01mif\u001b[39;00m \u001b[38;5;28mall\u001b[39m(\u001b[43mno_color\u001b[49m\u001b[43m(\u001b[49m\u001b[43mc\u001b[49m\u001b[43m)\u001b[49m \u001b[38;5;28;01mfor\u001b[39;00m c \u001b[38;5;129;01min\u001b[39;00m colors):\n\u001b[32m    610\u001b[39m         \u001b[38;5;28;01mreturn\u001b[39;00m \u001b[33m\"\u001b[39m\u001b[33mnone\u001b[39m\u001b[33m\"\u001b[39m\n\u001b[32m    612\u001b[39m     \u001b[38;5;28;01mif\u001b[39;00m \u001b[38;5;28misinstance\u001b[39m(alpha, (Sequence, pd.Series)):\n",
            "\u001b[36mFile \u001b[39m\u001b[32m~/miniconda3/lib/python3.12/site-packages/plotnine/_utils/__init__.py:583\u001b[39m, in \u001b[36mto_rgba.<locals>.no_color\u001b[39m\u001b[34m(c)\u001b[39m\n\u001b[32m    582\u001b[39m \u001b[38;5;28;01mdef\u001b[39;00m\u001b[38;5;250m \u001b[39m\u001b[34mno_color\u001b[39m(c):\n\u001b[32m--> \u001b[39m\u001b[32m583\u001b[39m     \u001b[38;5;28;01mreturn\u001b[39;00m c \u001b[38;5;129;01mis\u001b[39;00m \u001b[38;5;28;01mNone\u001b[39;00m \u001b[38;5;129;01mor\u001b[39;00m \u001b[43mc\u001b[49m\u001b[43m.\u001b[49m\u001b[43mlower\u001b[49m() \u001b[38;5;129;01min\u001b[39;00m (\u001b[33m\"\u001b[39m\u001b[33mnone\u001b[39m\u001b[33m\"\u001b[39m, \u001b[33m\"\u001b[39m\u001b[33m\"\u001b[39m)\n",
            "\u001b[31mAttributeError\u001b[39m: 'numpy.ndarray' object has no attribute 'lower'"
          ]
        },
        {
          "data": {
            "text/plain": [
              "<plotnine.ggplot.ggplot at 0x7fbcdce239b0>"
            ]
          },
          "execution_count": 65,
          "metadata": {},
          "output_type": "execute_result"
        }
      ],
      "source": [
        "# bar plot\n",
        "from plotnine import ggplot, aes, geom_col, facet_wrap, scale_fill_manual\n",
        "\n",
        "(\n",
        "    ggplot(purp_summary, aes(x='Purpose', y='count', fill='Purpose'))\n",
        "    + geom_col()\n",
        "    + facet_wrap('~Taxon')\n",
        "    + scale_fill_manual(values=cm.inferno.colors[:10])\n",
        ")"
      ]
    },
    {
      "cell_type": "markdown",
      "metadata": {
        "id": "YPcEhIm4JgA2"
      },
      "source": [
        "There appears to be a trend where commerical purposes is the most commonly cited reason for trading a species or its derivatives."
      ]
    },
    {
      "cell_type": "markdown",
      "metadata": {
        "id": "o-qgoT_YJgA2"
      },
      "source": [
        "Appendix refers to the degree of protection for a species— Appendix-I species being the most protected.\n",
        "\n",
        "So, what is the designation of each of the above species?"
      ]
    },
    {
      "cell_type": "code",
      "execution_count": 67,
      "metadata": {
        "execution": {
          "iopub.execute_input": "2022-03-13T22:23:46.94604Z",
          "iopub.status.busy": "2022-03-13T22:23:46.94295Z",
          "iopub.status.idle": "2022-03-13T22:23:47.042111Z"
        },
        "id": "JOxO3xjyJgA2",
        "trusted": true
      },
      "outputs": [
        {
          "name": "stdout",
          "output_type": "stream",
          "text": [
            "Taxon    Alligator mississippiensis\n",
            "App.                             II\n",
            "Name: 10045, dtype: object\n",
            "Taxon    Python reticulatus\n",
            "App.                     II\n",
            "Name: 55577, dtype: object\n",
            "Taxon    Varanus salvator\n",
            "App.                   II\n",
            "Name: 63346, dtype: object\n",
            "Taxon    Varanus niloticus\n",
            "App.                    II\n",
            "Name: 62516, dtype: object\n",
            "Taxon    Caiman crocodilus yacare\n",
            "App.                           II\n",
            "Name: 13099, dtype: object\n",
            "Taxon    Loxodonta africana\n",
            "App.                      I\n",
            "Name: 1928, dtype: object\n",
            "Taxon    Python brongersmai\n",
            "App.                     II\n",
            "Name: 54858, dtype: object\n",
            "Taxon    Vicugna vicugna\n",
            "App.                   I\n",
            "Name: 554, dtype: object\n",
            "Taxon    Crocodylus niloticus\n",
            "App.                        I\n",
            "Name: 1036, dtype: object\n"
          ]
        }
      ],
      "source": [
        "# list appendix for each species\n",
        "for species in endangered['Taxon']:\n",
        "    print(trade[trade['Taxon'] == species][['Taxon', 'App.']].iloc[0])"
      ]
    },
    {
      "cell_type": "markdown",
      "metadata": {
        "id": "qcUqj8urJgA3"
      },
      "source": [
        "Many of these species are currently designated as Appendix-II, and the species towards the bottom of the list are mostly Appendix-I species."
      ]
    },
    {
      "cell_type": "markdown",
      "metadata": {
        "id": "X08OsEyoJgA3"
      },
      "source": [
        "What goods are being collected from these species?"
      ]
    },
    {
      "cell_type": "code",
      "execution_count": 69,
      "metadata": {
        "execution": {
          "iopub.execute_input": "2022-03-13T23:17:26.55113Z",
          "iopub.status.busy": "2022-03-13T23:17:26.549396Z",
          "iopub.status.idle": "2022-03-13T23:17:26.595207Z"
        },
        "id": "br8SO8Z6JgA3",
        "trusted": true
      },
      "outputs": [
        {
          "name": "stdout",
          "output_type": "stream",
          "text": [
            "                          Taxon                      Term  count\n",
            "4    Alligator mississippiensis                  garments     90\n",
            "6    Alligator mississippiensis  leather products (large)     94\n",
            "7    Alligator mississippiensis  leather products (small)    924\n",
            "15   Alligator mississippiensis               skin pieces     90\n",
            "16   Alligator mississippiensis                     skins    137\n",
            "18   Alligator mississippiensis                 specimens     79\n",
            "21     Caiman crocodilus yacare                  garments     65\n",
            "24     Caiman crocodilus yacare  leather products (small)    305\n",
            "33         Crocodylus niloticus  leather products (small)    118\n",
            "39         Crocodylus niloticus                  trophies     51\n",
            "63           Loxodonta africana                  trophies     64\n",
            "65           Loxodonta africana                     tusks     64\n",
            "69           Python brongersmai  leather products (small)    259\n",
            "76           Python reticulatus                  garments    111\n",
            "78           Python reticulatus  leather products (large)     63\n",
            "79           Python reticulatus  leather products (small)    710\n",
            "83           Python reticulatus                     skins    134\n",
            "90            Varanus niloticus  leather products (small)    541\n",
            "97             Varanus salvator  leather products (small)    643\n",
            "100            Varanus salvator                     skins    112\n",
            "102             Vicugna vicugna                     cloth     59\n",
            "106             Vicugna vicugna                  garments    168\n"
          ]
        }
      ],
      "source": [
        "# list all goods traded more than 50 times for each species\n",
        "result = (\n",
        "\ttrade[trade['Taxon'].isin(endangered['Taxon'])]\n",
        "\t.groupby(['Taxon', 'Term'])\n",
        "\t.size()\n",
        "\t.reset_index(name='count')\n",
        "\t.query('count > 50')\n",
        ")\n",
        "\n",
        "print(result)"
      ]
    },
    {
      "cell_type": "markdown",
      "metadata": {
        "id": "YsR4X79LJgA3"
      },
      "source": [
        "# Conclusion & Reccomendations"
      ]
    },
    {
      "cell_type": "markdown",
      "metadata": {
        "id": "3k8hB2JmJgA3"
      },
      "source": [
        "Almost all of the species that are being widely traded are reptiles (alligators, crocodiles, snakes, and monitors). These reptiles are highly sought after for their scaly leather, which is seen as a luxurious material for making clothing and accessories. The remaining species were the vicuña, hunted for their hide, and the african elphant, notoriously hunted for their ivory-rich tusks.\n",
        "\n",
        "Ultimately, this dataset was limited to legal activity in the international wildlife trade. The truly endangered species are being threatened by the significant black market activity around the globe. In any case, the following reccomendations serve to balance out the legal market and prevent species from becoming endangered."
      ]
    },
    {
      "cell_type": "markdown",
      "metadata": {
        "id": "nJ550EPQJgA3"
      },
      "source": [
        "### Reccomendations"
      ]
    },
    {
      "cell_type": "markdown",
      "metadata": {
        "id": "YOy_lojEJgA3"
      },
      "source": [
        "- Limit U.S. wildlife and wildlife derivative imports to 1000 maximum annually.\n",
        "- Increase import and export taxes on the following goods:\n",
        "    - leathers, hides, or trophies derived from any species of the following genera:\n",
        "        - Alligator\n",
        "        - Crocodylus\n",
        "        - Caiman\n",
        "        - Varanus\n",
        "        - Python\n",
        "    - elephant tusks\n",
        "    - elephant trophies\n",
        "    - vicuña cloth\n",
        "    - vicuña garments\n",
        "- Move the following Appendix-II species to Appendix III:\n",
        "    - Alligator mississippiensis (American Alligator)\n",
        "    - Python reticulatus (Reticulated Python)\n",
        "    - Varanus salvator (Asian Water Monitor)\n",
        "    - Varanus niloticus (Nile Monitor)\n",
        "    - Caiman crocodilus yacare (Spectacled Caiman)\n",
        "    - Python brongersmai (Blood Python)\n",
        "- Outlaw the capture or slaughter of the following species:\n",
        "    - Loxodonta africana (African Elephant)\n",
        "    - Vicugna vicugna (Vicuña)\n",
        "    - Crocodylus niloticus (Nile Crocodile)"
      ]
    },
    {
      "cell_type": "markdown",
      "metadata": {
        "id": "JlHtj9sNJgA3"
      },
      "source": [
        "It is our duty to protect all life on this Earth, not take it away. As the most technologically advanced species on this planet, we have both the power and **responsibility** to safe guard life."
      ]
    },
    {
      "cell_type": "markdown",
      "metadata": {
        "id": "3nK0tm2cJgA3"
      },
      "source": [
        "![LittleReptile](https://cf.ltkcdn.net/small-pets/images/orig/259567-1600x1030-intelligent-characteristics-reptiles.jpg)"
      ]
    }
  ],
  "metadata": {
    "colab": {
      "provenance": []
    },
    "kernelspec": {
      "display_name": "base",
      "language": "python",
      "name": "python3"
    },
    "language_info": {
      "codemirror_mode": {
        "name": "ipython",
        "version": 3
      },
      "file_extension": ".py",
      "mimetype": "text/x-python",
      "name": "python",
      "nbconvert_exporter": "python",
      "pygments_lexer": "ipython3",
      "version": "3.12.2"
    }
  },
  "nbformat": 4,
  "nbformat_minor": 0
}
